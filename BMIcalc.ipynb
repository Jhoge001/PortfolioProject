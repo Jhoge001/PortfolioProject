{
 "cells": [
  {
   "cell_type": "code",
   "execution_count": 3,
   "id": "6dd6845d-645e-494a-8b8e-796fd5f42365",
   "metadata": {},
   "outputs": [
    {
     "name": "stdin",
     "output_type": "stream",
     "text": [
      "Enter Your Name Jake\n",
      "Enter Your Weight in Pounds:  170\n",
      "Enter Your Hight in Inches:  74\n"
     ]
    },
    {
     "name": "stdout",
     "output_type": "stream",
     "text": [
      "21.824324324324323\n",
      "Jake, you're normal weight.\n"
     ]
    }
   ],
   "source": [
    "##BMI Calc test\n",
    "name = input(\"Enter Your Name\")\n",
    "weight = int(input(\"Enter Your Weight in Pounds: \"))\n",
    "height = int(input(\"Enter Your Hight in Inches: \"))\n",
    "BMI = (weight * 703) / (height * height)\n",
    "print(BMI)\n",
    "\n",
    "if BMI>0:\n",
    "    if(BMI<18.5):\n",
    "        print(name +\", you're underweight.\")\n",
    "    elif(BMI<=24.9):\n",
    "        print(name +\", you're normal weight.\")\n",
    "    elif(BMI<29.9):\n",
    "        print(name +\", you're overweight.\")\n",
    "    elif(BMI<34.9):\n",
    "        print(name +\", you're obese.\")\n",
    "    elif(BMI<39.9):\n",
    "        print(name +\", you're severly obese.\")\n",
    "    else:\n",
    "        print(name +\", you're morbidly obese.\")\n",
    "else:\n",
    "    print(\"Enter Valid Input\")\n"
   ]
  },
  {
   "cell_type": "code",
   "execution_count": null,
   "id": "731513b8-1be9-4037-95df-a0923050b588",
   "metadata": {},
   "outputs": [],
   "source": []
  }
 ],
 "metadata": {
  "kernelspec": {
   "display_name": "Python 3 (ipykernel)",
   "language": "python",
   "name": "python3"
  },
  "language_info": {
   "codemirror_mode": {
    "name": "ipython",
    "version": 3
   },
   "file_extension": ".py",
   "mimetype": "text/x-python",
   "name": "python",
   "nbconvert_exporter": "python",
   "pygments_lexer": "ipython3",
   "version": "3.11.7"
  }
 },
 "nbformat": 4,
 "nbformat_minor": 5
}
